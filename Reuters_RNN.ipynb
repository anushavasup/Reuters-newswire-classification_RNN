{
  "nbformat": 4,
  "nbformat_minor": 0,
  "metadata": {
    "colab": {
      "name": "Reuters_RNN.ipynb",
      "provenance": [],
      "collapsed_sections": [],
      "include_colab_link": true
    },
    "kernelspec": {
      "name": "python3",
      "display_name": "Python 3"
    },
    "accelerator": "TPU"
  },
  "cells": [
    {
      "cell_type": "markdown",
      "metadata": {
        "id": "view-in-github",
        "colab_type": "text"
      },
      "source": [
        "<a href=\"https://colab.research.google.com/github/anushavasup/Reuters-newswire-classification_RNN/blob/main/Reuters_RNN.ipynb\" target=\"_parent\"><img src=\"https://colab.research.google.com/assets/colab-badge.svg\" alt=\"Open In Colab\"/></a>"
      ]
    },
    {
      "cell_type": "code",
      "metadata": {
        "id": "kbNPxxHoj0mf"
      },
      "source": [
        "import keras\n",
        "from keras.datasets import reuters\n",
        "import tensorflow.keras.utils as ku"
      ],
      "execution_count": 20,
      "outputs": []
    },
    {
      "cell_type": "code",
      "metadata": {
        "id": "aNKmrwOqj6TQ"
      },
      "source": [
        "max_features = 20000"
      ],
      "execution_count": 2,
      "outputs": []
    },
    {
      "cell_type": "code",
      "metadata": {
        "id": "ex3qiET_kCdF",
        "colab": {
          "base_uri": "https://localhost:8080/"
        },
        "outputId": "65f1f80b-85cf-40f6-f590-5622012d6bdb"
      },
      "source": [
        "print('Loading data...')\n",
        "(X_train, y_train),(X_test, y_test) = reuters.load_data(num_words=max_features, test_split=0.3)\n",
        "print(len(X_train), 'train sequences')\n",
        "print(len(X_test), 'test sequences')"
      ],
      "execution_count": 3,
      "outputs": [
        {
          "output_type": "stream",
          "name": "stdout",
          "text": [
            "Loading data...\n",
            "Downloading data from https://storage.googleapis.com/tensorflow/tf-keras-datasets/reuters.npz\n",
            "2113536/2110848 [==============================] - 0s 0us/step\n",
            "2121728/2110848 [==============================] - 0s 0us/step\n",
            "7859 train sequences\n",
            "3369 test sequences\n"
          ]
        }
      ]
    },
    {
      "cell_type": "code",
      "metadata": {
        "id": "TeKHBMLfjJKf",
        "colab": {
          "base_uri": "https://localhost:8080/"
        },
        "outputId": "e3e4fc7c-6a69-48a5-cd5e-c582ae721fde"
      },
      "source": [
        "X_train"
      ],
      "execution_count": 4,
      "outputs": [
        {
          "output_type": "execute_result",
          "data": {
            "text/plain": [
              "array([list([1, 2, 2, 8, 43, 10, 447, 5, 25, 207, 270, 5, 3095, 111, 16, 369, 186, 90, 67, 7, 89, 5, 19, 102, 6, 19, 124, 15, 90, 67, 84, 22, 482, 26, 7, 48, 4, 49, 8, 864, 39, 209, 154, 6, 151, 6, 83, 11, 15, 22, 155, 11, 15, 7, 48, 9, 4579, 1005, 504, 6, 258, 6, 272, 11, 15, 22, 134, 44, 11, 15, 16, 8, 197, 1245, 90, 67, 52, 29, 209, 30, 32, 132, 6, 109, 15, 17, 12]),\n",
              "       list([1, 3267, 699, 3434, 2295, 56, 16784, 7511, 9, 56, 3906, 1073, 81, 5, 1198, 57, 366, 737, 132, 20, 4093, 7, 19261, 49, 2295, 13415, 1037, 3267, 699, 3434, 8, 7, 10, 241, 16, 855, 129, 231, 783, 5, 4, 587, 2295, 13415, 2, 775, 7, 48, 34, 191, 44, 35, 1795, 505, 17, 12]),\n",
              "       list([1, 53, 12, 284, 15, 14, 272, 26, 53, 959, 32, 818, 15, 14, 272, 26, 39, 684, 70, 11, 14, 12, 3886, 18, 180, 183, 187, 70, 11, 14, 102, 32, 11, 29, 53, 44, 704, 15, 14, 19, 758, 15, 53, 959, 47, 1013, 15, 14, 19, 132, 15, 39, 965, 32, 11, 14, 147, 72, 11, 180, 183, 187, 44, 11, 14, 102, 19, 11, 123, 186, 90, 67, 960, 4, 78, 13, 68, 467, 511, 110, 59, 89, 90, 67, 1390, 55, 2678, 92, 617, 80, 1274, 46, 905, 220, 13, 4, 346, 48, 235, 629, 5, 211, 5, 1118, 7, 11733, 81, 5, 187, 11, 15, 9, 1709, 201, 5, 47, 3615, 18, 478, 4514, 5, 1118, 7, 232, 13051, 71, 5, 160, 63, 11, 9, 2, 81, 5, 102, 59, 11, 17, 12]),\n",
              "       ...,\n",
              "       list([1, 9497, 15060, 111, 8, 16, 701, 10, 6056, 5, 1354, 6, 438, 12099, 71, 10, 2658, 5, 2, 16, 8, 2, 632, 267, 12099, 64, 88, 7, 48, 5, 69, 119, 11, 15, 316, 62, 45, 889, 17, 12]),\n",
              "       list([1, 2015, 1072, 9, 691, 111, 8, 16, 3431, 5770, 2319, 3570, 71, 323, 9, 56, 2, 13793, 2, 894, 2302, 57, 85, 607, 188, 691, 3306, 1304, 4, 1895, 2015, 1072, 8, 3306, 2, 2, 9, 2, 62, 607, 6, 4, 103, 7, 50, 3570, 40, 10, 934, 44, 20, 128, 2015, 1072, 119, 20, 9, 2383, 13793, 134, 44, 20, 184, 52, 103, 1401, 31, 10, 2620, 2506, 27, 4718, 111, 56, 11562, 62, 607, 1239, 2, 4, 988, 62, 4, 447, 5, 2342, 2333, 6, 4, 379, 5, 168, 1988, 13, 4, 1895, 3087, 1304, 4194, 1188, 2015, 1072, 8, 4, 3570, 103, 1480, 6, 720, 10, 2045, 3584, 5, 4, 3306, 31, 363, 6, 624, 691, 52, 29, 4, 49, 75, 8, 4, 78, 15988, 3306, 972, 1164, 100, 1304, 3306, 21, 50, 9037, 57, 85, 1523, 7, 577, 4416, 17, 12]),\n",
              "       list([1, 53, 533, 26, 14, 45, 630, 39, 47, 5021, 18, 14, 32, 3986, 18, 123, 235, 39, 221, 629, 5, 6798, 18, 15, 14, 19, 32, 11, 15, 22, 49, 2197, 6, 80, 1618, 7, 207, 48, 17, 12])],\n",
              "      dtype=object)"
            ]
          },
          "metadata": {},
          "execution_count": 4
        }
      ]
    },
    {
      "cell_type": "code",
      "metadata": {
        "id": "eMTVwqwMzYHV",
        "colab": {
          "base_uri": "https://localhost:8080/"
        },
        "outputId": "841a40b0-8d1c-4132-8f56-09f8b8658b9d"
      },
      "source": [
        "len(X_train[1])"
      ],
      "execution_count": 5,
      "outputs": [
        {
          "output_type": "execute_result",
          "data": {
            "text/plain": [
              "56"
            ]
          },
          "metadata": {},
          "execution_count": 5
        }
      ]
    },
    {
      "cell_type": "code",
      "metadata": {
        "id": "RLm4USj7zlPG",
        "colab": {
          "base_uri": "https://localhost:8080/"
        },
        "outputId": "3b957d11-3bca-471c-cc6f-c47ca4760d6b"
      },
      "source": [
        "len(X_train[2])"
      ],
      "execution_count": 6,
      "outputs": [
        {
          "output_type": "execute_result",
          "data": {
            "text/plain": [
              "139"
            ]
          },
          "metadata": {},
          "execution_count": 6
        }
      ]
    },
    {
      "cell_type": "code",
      "metadata": {
        "id": "9yDvKg60BJSd",
        "colab": {
          "base_uri": "https://localhost:8080/"
        },
        "outputId": "9c7dd5ad-8ae4-43fb-b4a3-142801358581"
      },
      "source": [
        "print(X_train[1])"
      ],
      "execution_count": 7,
      "outputs": [
        {
          "output_type": "stream",
          "name": "stdout",
          "text": [
            "[1, 3267, 699, 3434, 2295, 56, 16784, 7511, 9, 56, 3906, 1073, 81, 5, 1198, 57, 366, 737, 132, 20, 4093, 7, 19261, 49, 2295, 13415, 1037, 3267, 699, 3434, 8, 7, 10, 241, 16, 855, 129, 231, 783, 5, 4, 587, 2295, 13415, 2, 775, 7, 48, 34, 191, 44, 35, 1795, 505, 17, 12]\n"
          ]
        }
      ]
    },
    {
      "cell_type": "code",
      "metadata": {
        "id": "4Nb5NrUczpHi"
      },
      "source": [
        "from keras.preprocessing import sequence"
      ],
      "execution_count": 8,
      "outputs": []
    },
    {
      "cell_type": "code",
      "metadata": {
        "id": "TYo9yJCkDnVB"
      },
      "source": [
        "maxlen = 1000"
      ],
      "execution_count": 9,
      "outputs": []
    },
    {
      "cell_type": "code",
      "metadata": {
        "id": "7xmbbXQpkEbM",
        "colab": {
          "base_uri": "https://localhost:8080/"
        },
        "outputId": "c88d3d7e-535c-4629-a8ef-72701013eb59"
      },
      "source": [
        "\n",
        "\n",
        "X_train = sequence.pad_sequences(X_train, maxlen=maxlen)\n",
        "X_test = sequence.pad_sequences(X_test, maxlen=maxlen)\n",
        "print('X_train shape:', X_train.shape)\n",
        "print('X_test shape:', X_test.shape)"
      ],
      "execution_count": 10,
      "outputs": [
        {
          "output_type": "stream",
          "name": "stdout",
          "text": [
            "X_train shape: (7859, 1000)\n",
            "X_test shape: (3369, 1000)\n"
          ]
        }
      ]
    },
    {
      "cell_type": "code",
      "metadata": {
        "id": "z99Rv4E0zL-U",
        "colab": {
          "base_uri": "https://localhost:8080/"
        },
        "outputId": "4acb9c13-bb71-4a68-d31c-f806d5abf88e"
      },
      "source": [
        "y_train.shape"
      ],
      "execution_count": 12,
      "outputs": [
        {
          "output_type": "execute_result",
          "data": {
            "text/plain": [
              "(7859,)"
            ]
          },
          "metadata": {},
          "execution_count": 12
        }
      ]
    },
    {
      "cell_type": "code",
      "metadata": {
        "id": "pRYu2AS99Pb8",
        "colab": {
          "base_uri": "https://localhost:8080/"
        },
        "outputId": "4027d550-ed94-4fd7-caf2-009cee5b5e01"
      },
      "source": [
        "len(y_train)"
      ],
      "execution_count": 13,
      "outputs": [
        {
          "output_type": "execute_result",
          "data": {
            "text/plain": [
              "7859"
            ]
          },
          "metadata": {},
          "execution_count": 13
        }
      ]
    },
    {
      "cell_type": "code",
      "metadata": {
        "id": "89j44r9N-hxK",
        "colab": {
          "base_uri": "https://localhost:8080/"
        },
        "outputId": "a3c470a1-4df2-4af9-cab8-bea0d6586b69"
      },
      "source": [
        "max(y_train)"
      ],
      "execution_count": 14,
      "outputs": [
        {
          "output_type": "execute_result",
          "data": {
            "text/plain": [
              "45"
            ]
          },
          "metadata": {},
          "execution_count": 14
        }
      ]
    },
    {
      "cell_type": "code",
      "metadata": {
        "id": "I8OWU7fCBxhd",
        "colab": {
          "base_uri": "https://localhost:8080/"
        },
        "outputId": "bf4271ca-5cc8-47e7-f270-27edc81e2c12"
      },
      "source": [
        "print(y_train[1])"
      ],
      "execution_count": 15,
      "outputs": [
        {
          "output_type": "stream",
          "name": "stdout",
          "text": [
            "4\n"
          ]
        }
      ]
    },
    {
      "cell_type": "code",
      "metadata": {
        "id": "9PsKnjaJ9I86"
      },
      "source": [
        "\n",
        "y_train = ku.to_categorical(y_train, 46)\n",
        "y_test = ku.to_categorical(y_test, 46)"
      ],
      "execution_count": 21,
      "outputs": []
    },
    {
      "cell_type": "code",
      "metadata": {
        "id": "v8at1OlRBequ",
        "colab": {
          "base_uri": "https://localhost:8080/"
        },
        "outputId": "8743ce49-b086-416f-9936-11b694e29131"
      },
      "source": [
        "\n",
        "print(y_train[1])"
      ],
      "execution_count": 22,
      "outputs": [
        {
          "output_type": "stream",
          "name": "stdout",
          "text": [
            "[0. 0. 0. 0. 1. 0. 0. 0. 0. 0. 0. 0. 0. 0. 0. 0. 0. 0. 0. 0. 0. 0. 0. 0.\n",
            " 0. 0. 0. 0. 0. 0. 0. 0. 0. 0. 0. 0. 0. 0. 0. 0. 0. 0. 0. 0. 0. 0.]\n"
          ]
        }
      ]
    },
    {
      "cell_type": "code",
      "metadata": {
        "id": "iOpJBFfeChIH",
        "colab": {
          "base_uri": "https://localhost:8080/"
        },
        "outputId": "930e9890-f9b9-4369-d147-573c1b75ad81"
      },
      "source": [
        "y_train.shape"
      ],
      "execution_count": 23,
      "outputs": [
        {
          "output_type": "execute_result",
          "data": {
            "text/plain": [
              "(7859, 46)"
            ]
          },
          "metadata": {},
          "execution_count": 23
        }
      ]
    },
    {
      "cell_type": "code",
      "metadata": {
        "id": "JnlTL9atD9IA"
      },
      "source": [
        "from tensorflow.python.keras import Sequential"
      ],
      "execution_count": 24,
      "outputs": []
    },
    {
      "cell_type": "code",
      "metadata": {
        "id": "l-YDi-PwEERX"
      },
      "source": [
        "from tensorflow.python.keras.layers import Embedding, Dense"
      ],
      "execution_count": 25,
      "outputs": []
    },
    {
      "cell_type": "code",
      "metadata": {
        "id": "PFz2orHr-49q"
      },
      "source": [
        "from tensorflow.python.keras.layers import SimpleRNN"
      ],
      "execution_count": 26,
      "outputs": []
    },
    {
      "cell_type": "markdown",
      "metadata": {
        "id": "3GDT5t7tDTrv"
      },
      "source": [
        "Simple RNN Model"
      ]
    },
    {
      "cell_type": "code",
      "metadata": {
        "id": "4DqYk4OY-5Bp"
      },
      "source": [
        "model = Sequential()\n",
        "model.add(Embedding(input_dim = max_features, output_dim = 300,input_length=1000))\n",
        "model.add(SimpleRNN(128, dropout=0.2))\n",
        "model.add(Dense(46, activation='softmax'))"
      ],
      "execution_count": 27,
      "outputs": []
    },
    {
      "cell_type": "code",
      "metadata": {
        "id": "LRtvyOuV-5F5",
        "colab": {
          "base_uri": "https://localhost:8080/"
        },
        "outputId": "9699d5cc-9912-4004-e483-3e4d72aa2cc7"
      },
      "source": [
        "model.summary()"
      ],
      "execution_count": 28,
      "outputs": [
        {
          "output_type": "stream",
          "name": "stdout",
          "text": [
            "Model: \"sequential\"\n",
            "_________________________________________________________________\n",
            "Layer (type)                 Output Shape              Param #   \n",
            "=================================================================\n",
            "embedding (Embedding)        (None, 1000, 300)         6000000   \n",
            "_________________________________________________________________\n",
            "simple_rnn (SimpleRNN)       (None, 128)               54912     \n",
            "_________________________________________________________________\n",
            "dense (Dense)                (None, 46)                5934      \n",
            "=================================================================\n",
            "Total params: 6,060,846\n",
            "Trainable params: 6,060,846\n",
            "Non-trainable params: 0\n",
            "_________________________________________________________________\n"
          ]
        }
      ]
    },
    {
      "cell_type": "code",
      "metadata": {
        "id": "DtLdb8sS-5JY"
      },
      "source": [
        "model.compile(loss='categorical_crossentropy',optimizer='adam',metrics=['accuracy'])"
      ],
      "execution_count": 29,
      "outputs": []
    },
    {
      "cell_type": "code",
      "metadata": {
        "id": "7F-7xc70-5N8",
        "colab": {
          "base_uri": "https://localhost:8080/"
        },
        "outputId": "860f3b14-d447-4c34-8be9-cfa4f6a0b2eb"
      },
      "source": [
        "print('Train...')\n",
        "model.fit(X_train, y_train,batch_size=256,epochs=10,validation_split=0.2)"
      ],
      "execution_count": 30,
      "outputs": [
        {
          "output_type": "stream",
          "name": "stdout",
          "text": [
            "Train...\n",
            "Epoch 1/10\n",
            "25/25 [==============================] - 111s 4s/step - loss: 2.7978 - accuracy: 0.2890 - val_loss: 2.7321 - val_accuracy: 0.2882\n",
            "Epoch 2/10\n",
            "25/25 [==============================] - 108s 4s/step - loss: 2.5473 - accuracy: 0.3506 - val_loss: 2.9561 - val_accuracy: 0.3518\n",
            "Epoch 3/10\n",
            "25/25 [==============================] - 108s 4s/step - loss: 2.5201 - accuracy: 0.3700 - val_loss: 2.3439 - val_accuracy: 0.3632\n",
            "Epoch 4/10\n",
            "25/25 [==============================] - 107s 4s/step - loss: 2.2966 - accuracy: 0.3860 - val_loss: 2.2348 - val_accuracy: 0.3912\n",
            "Epoch 5/10\n",
            "25/25 [==============================] - 107s 4s/step - loss: 2.2317 - accuracy: 0.4102 - val_loss: 2.2156 - val_accuracy: 0.3982\n",
            "Epoch 6/10\n",
            "25/25 [==============================] - 107s 4s/step - loss: 2.1440 - accuracy: 0.4582 - val_loss: 2.1584 - val_accuracy: 0.4148\n",
            "Epoch 7/10\n",
            "25/25 [==============================] - 106s 4s/step - loss: 2.0472 - accuracy: 0.4864 - val_loss: 2.1218 - val_accuracy: 0.4383\n",
            "Epoch 8/10\n",
            "25/25 [==============================] - 107s 4s/step - loss: 1.9616 - accuracy: 0.4988 - val_loss: 2.1057 - val_accuracy: 0.4268\n",
            "Epoch 9/10\n",
            "25/25 [==============================] - 106s 4s/step - loss: 1.8695 - accuracy: 0.5117 - val_loss: 2.0489 - val_accuracy: 0.4478\n",
            "Epoch 10/10\n",
            "25/25 [==============================] - 106s 4s/step - loss: 1.6983 - accuracy: 0.5489 - val_loss: 2.0262 - val_accuracy: 0.4529\n"
          ]
        },
        {
          "output_type": "execute_result",
          "data": {
            "text/plain": [
              "<tensorflow.python.keras.callbacks.History at 0x7f3cdca6ec50>"
            ]
          },
          "metadata": {},
          "execution_count": 30
        }
      ]
    },
    {
      "cell_type": "code",
      "metadata": {
        "id": "s2xkPBse-5Qy",
        "colab": {
          "base_uri": "https://localhost:8080/"
        },
        "outputId": "fc24062f-3dea-4438-8878-ace85ebe32b0"
      },
      "source": [
        "model.evaluate(X_test,y_test)"
      ],
      "execution_count": 31,
      "outputs": [
        {
          "output_type": "stream",
          "name": "stdout",
          "text": [
            "106/106 [==============================] - 16s 149ms/step - loss: 2.0786 - accuracy: 0.4467\n"
          ]
        },
        {
          "output_type": "execute_result",
          "data": {
            "text/plain": [
              "[2.0786142349243164, 0.44672009348869324]"
            ]
          },
          "metadata": {},
          "execution_count": 31
        }
      ]
    },
    {
      "cell_type": "code",
      "metadata": {
        "id": "hja9qjtA-Lvz"
      },
      "source": [
        ""
      ],
      "execution_count": null,
      "outputs": []
    },
    {
      "cell_type": "markdown",
      "metadata": {
        "id": "YDRO5mdnAQpK"
      },
      "source": [
        "## LSTM "
      ]
    },
    {
      "cell_type": "code",
      "metadata": {
        "id": "hqJKiBsNATf0"
      },
      "source": [
        "from tensorflow.python.keras.layers import LSTM"
      ],
      "execution_count": 32,
      "outputs": []
    },
    {
      "cell_type": "code",
      "metadata": {
        "id": "rsjFNqnbAUga"
      },
      "source": [
        "model1 = Sequential()\n",
        "model1.add(Embedding(input_dim = max_features, output_dim = 300,input_length=1000))\n",
        "model1.add(LSTM(128, dropout=0.2))\n",
        "model1.add(Dense(46, activation='softmax'))"
      ],
      "execution_count": 33,
      "outputs": []
    },
    {
      "cell_type": "code",
      "metadata": {
        "id": "AC75W3AhAiWs",
        "colab": {
          "base_uri": "https://localhost:8080/"
        },
        "outputId": "7e57a2bc-db61-48b0-bed8-3ea0209530c6"
      },
      "source": [
        "model1.summary()"
      ],
      "execution_count": 34,
      "outputs": [
        {
          "output_type": "stream",
          "name": "stdout",
          "text": [
            "Model: \"sequential_1\"\n",
            "_________________________________________________________________\n",
            "Layer (type)                 Output Shape              Param #   \n",
            "=================================================================\n",
            "embedding_1 (Embedding)      (None, 1000, 300)         6000000   \n",
            "_________________________________________________________________\n",
            "lstm (LSTM)                  (None, 128)               219648    \n",
            "_________________________________________________________________\n",
            "dense_1 (Dense)              (None, 46)                5934      \n",
            "=================================================================\n",
            "Total params: 6,225,582\n",
            "Trainable params: 6,225,582\n",
            "Non-trainable params: 0\n",
            "_________________________________________________________________\n"
          ]
        }
      ]
    },
    {
      "cell_type": "code",
      "metadata": {
        "id": "A51qmHPDAmHj"
      },
      "source": [
        "model1.compile(loss='categorical_crossentropy',optimizer='adam',metrics=['accuracy'])"
      ],
      "execution_count": 35,
      "outputs": []
    },
    {
      "cell_type": "code",
      "metadata": {
        "id": "Ee7-NHCLApsv",
        "colab": {
          "base_uri": "https://localhost:8080/"
        },
        "outputId": "ad2b62c0-43a7-447f-cb99-4c1e9fe7d83d"
      },
      "source": [
        "print('Train...')\n",
        "model1.fit(X_train, y_train,batch_size=256,epochs=10,validation_split=0.2)"
      ],
      "execution_count": 36,
      "outputs": [
        {
          "output_type": "stream",
          "name": "stdout",
          "text": [
            "Train...\n",
            "Epoch 1/10\n",
            "25/25 [==============================] - 479s 19s/step - loss: 3.0126 - accuracy: 0.3057 - val_loss: 2.3831 - val_accuracy: 0.4351\n",
            "Epoch 2/10\n",
            "25/25 [==============================] - 518s 21s/step - loss: 2.3245 - accuracy: 0.3566 - val_loss: 2.1270 - val_accuracy: 0.3664\n",
            "Epoch 3/10\n",
            "25/25 [==============================] - 619s 25s/step - loss: 1.9337 - accuracy: 0.4527 - val_loss: 1.8927 - val_accuracy: 0.5140\n",
            "Epoch 4/10\n",
            "25/25 [==============================] - 574s 23s/step - loss: 1.8118 - accuracy: 0.5115 - val_loss: 1.7775 - val_accuracy: 0.4987\n",
            "Epoch 5/10\n",
            "25/25 [==============================] - 495s 20s/step - loss: 1.6188 - accuracy: 0.5534 - val_loss: 1.8608 - val_accuracy: 0.4885\n",
            "Epoch 6/10\n",
            "25/25 [==============================] - 497s 20s/step - loss: 1.5479 - accuracy: 0.5666 - val_loss: 1.6807 - val_accuracy: 0.5579\n",
            "Epoch 7/10\n",
            "25/25 [==============================] - 500s 20s/step - loss: 1.4106 - accuracy: 0.6210 - val_loss: 1.6018 - val_accuracy: 0.5903\n",
            "Epoch 8/10\n",
            "25/25 [==============================] - 516s 20s/step - loss: 1.2631 - accuracy: 0.6682 - val_loss: 1.5821 - val_accuracy: 0.6018\n",
            "Epoch 9/10\n",
            "25/25 [==============================] - 514s 21s/step - loss: 1.0764 - accuracy: 0.7318 - val_loss: 1.5829 - val_accuracy: 0.6151\n",
            "Epoch 10/10\n",
            "25/25 [==============================] - 509s 20s/step - loss: 0.9176 - accuracy: 0.7698 - val_loss: 1.5521 - val_accuracy: 0.6291\n"
          ]
        },
        {
          "output_type": "execute_result",
          "data": {
            "text/plain": [
              "<tensorflow.python.keras.callbacks.History at 0x7f3cdc5908d0>"
            ]
          },
          "metadata": {},
          "execution_count": 36
        }
      ]
    },
    {
      "cell_type": "code",
      "metadata": {
        "id": "8OkqEqbIBJ6j",
        "colab": {
          "base_uri": "https://localhost:8080/"
        },
        "outputId": "424516bd-687f-4083-acdc-b3980c3bd875"
      },
      "source": [
        "model1.evaluate(X_test,y_test)"
      ],
      "execution_count": 37,
      "outputs": [
        {
          "output_type": "stream",
          "name": "stdout",
          "text": [
            "106/106 [==============================] - 59s 558ms/step - loss: 1.6738 - accuracy: 0.6150\n"
          ]
        },
        {
          "output_type": "execute_result",
          "data": {
            "text/plain": [
              "[1.6737699508666992, 0.6150193214416504]"
            ]
          },
          "metadata": {},
          "execution_count": 37
        }
      ]
    },
    {
      "cell_type": "markdown",
      "metadata": {
        "id": "0E3QF6n2GaTq"
      },
      "source": [
        "### Conv1D "
      ]
    },
    {
      "cell_type": "code",
      "metadata": {
        "id": "JQ02DhfGExfa"
      },
      "source": [
        "from tensorflow.python.keras.layers import Dropout,Conv1D, GlobalMaxPooling1D"
      ],
      "execution_count": 38,
      "outputs": []
    },
    {
      "cell_type": "code",
      "metadata": {
        "id": "y0_azCF1E6Eq"
      },
      "source": [
        "model2= Sequential()\n",
        "model2.add(Embedding(input_dim = max_features, output_dim = 300,input_length=1000))\n",
        "\n",
        "\n",
        "model2.add(Conv1D(64,kernel_size=3,padding='same',activation='relu',strides=1))\n",
        "model2.add(Dropout(0.2))\n",
        "\n",
        "model2.add(Conv1D(64,kernel_size=3,padding='same',activation='relu',strides=1))\n",
        "model2.add(Dropout(0.2))\n",
        "\n",
        "model2.add(GlobalMaxPooling1D())\n",
        "\n",
        "model2.add(Dense(128,activation='relu'))\n",
        "model2.add(Dropout(0.2))\n",
        "\n",
        "model2.add(Dense(46,activation='softmax'))"
      ],
      "execution_count": 39,
      "outputs": []
    },
    {
      "cell_type": "code",
      "metadata": {
        "id": "kKFgDBeQFH_2",
        "colab": {
          "base_uri": "https://localhost:8080/"
        },
        "outputId": "0710b7d4-4e30-4c29-f840-3a8816a32dcd"
      },
      "source": [
        "model2.summary()"
      ],
      "execution_count": 40,
      "outputs": [
        {
          "output_type": "stream",
          "name": "stdout",
          "text": [
            "Model: \"sequential_2\"\n",
            "_________________________________________________________________\n",
            "Layer (type)                 Output Shape              Param #   \n",
            "=================================================================\n",
            "embedding_2 (Embedding)      (None, 1000, 300)         6000000   \n",
            "_________________________________________________________________\n",
            "conv1d (Conv1D)              (None, 1000, 64)          57664     \n",
            "_________________________________________________________________\n",
            "dropout (Dropout)            (None, 1000, 64)          0         \n",
            "_________________________________________________________________\n",
            "conv1d_1 (Conv1D)            (None, 1000, 64)          12352     \n",
            "_________________________________________________________________\n",
            "dropout_1 (Dropout)          (None, 1000, 64)          0         \n",
            "_________________________________________________________________\n",
            "global_max_pooling1d (Global (None, 64)                0         \n",
            "_________________________________________________________________\n",
            "dense_2 (Dense)              (None, 128)               8320      \n",
            "_________________________________________________________________\n",
            "dropout_2 (Dropout)          (None, 128)               0         \n",
            "_________________________________________________________________\n",
            "dense_3 (Dense)              (None, 46)                5934      \n",
            "=================================================================\n",
            "Total params: 6,084,270\n",
            "Trainable params: 6,084,270\n",
            "Non-trainable params: 0\n",
            "_________________________________________________________________\n"
          ]
        }
      ]
    },
    {
      "cell_type": "code",
      "metadata": {
        "id": "2m4Rp5DcFSST"
      },
      "source": [
        "model2.compile(loss='categorical_crossentropy',optimizer='adam',metrics=['accuracy'])"
      ],
      "execution_count": 41,
      "outputs": []
    },
    {
      "cell_type": "code",
      "metadata": {
        "id": "ns9JErnQFXM_",
        "colab": {
          "base_uri": "https://localhost:8080/"
        },
        "outputId": "a9f7f682-c425-43ad-c967-854f8a3eb2a3"
      },
      "source": [
        "print('Train...')\n",
        "model2.fit(X_train, y_train,batch_size=256,epochs=2,validation_split=0.2)"
      ],
      "execution_count": 42,
      "outputs": [
        {
          "output_type": "stream",
          "name": "stdout",
          "text": [
            "Train...\n",
            "Epoch 1/2\n",
            "25/25 [==============================] - 90s 4s/step - loss: 2.9367 - accuracy: 0.3070 - val_loss: 2.8409 - val_accuracy: 0.3575\n",
            "Epoch 2/2\n",
            "25/25 [==============================] - 89s 4s/step - loss: 2.2329 - accuracy: 0.4312 - val_loss: 2.1079 - val_accuracy: 0.5293\n"
          ]
        },
        {
          "output_type": "execute_result",
          "data": {
            "text/plain": [
              "<tensorflow.python.keras.callbacks.History at 0x7f3cdc96c750>"
            ]
          },
          "metadata": {},
          "execution_count": 42
        }
      ]
    },
    {
      "cell_type": "code",
      "metadata": {
        "id": "YBG-AEQNFkjb",
        "colab": {
          "base_uri": "https://localhost:8080/"
        },
        "outputId": "bf280c64-9b0a-41ec-e64f-5dbda52efbc5"
      },
      "source": [
        "model2.evaluate(X_test,y_test)"
      ],
      "execution_count": 43,
      "outputs": [
        {
          "output_type": "stream",
          "name": "stdout",
          "text": [
            "106/106 [==============================] - 12s 111ms/step - loss: 2.1420 - accuracy: 0.5194\n"
          ]
        },
        {
          "output_type": "execute_result",
          "data": {
            "text/plain": [
              "[2.1419835090637207, 0.5194419622421265]"
            ]
          },
          "metadata": {},
          "execution_count": 43
        }
      ]
    },
    {
      "cell_type": "markdown",
      "metadata": {
        "id": "0mClbc2Xn-Za"
      },
      "source": [
        "## conv1d with lstm"
      ]
    },
    {
      "cell_type": "code",
      "metadata": {
        "id": "yUkGXr53G5yo"
      },
      "source": [
        "from tensorflow.python.keras.layers import MaxPooling1D,Flatten"
      ],
      "execution_count": 44,
      "outputs": []
    },
    {
      "cell_type": "markdown",
      "metadata": {
        "id": "lXFlEXXtIovN"
      },
      "source": [
        ""
      ]
    },
    {
      "cell_type": "code",
      "metadata": {
        "id": "Tj3bGo4YG6BQ",
        "colab": {
          "base_uri": "https://localhost:8080/"
        },
        "outputId": "6018568e-09e7-4c43-9ee3-b400c51b50eb"
      },
      "source": [
        "model3= Sequential()\n",
        "model3.add(Embedding(input_dim = max_features, output_dim = 300,input_length=1000))\n",
        "model3.add(Conv1D(64,kernel_size=3,padding='same',activation='relu'))\n",
        "model3.add(MaxPooling1D(pool_size=2))\n",
        "model3.add(Dropout(0.2))\n",
        "model3.add(LSTM(128,return_sequences=True))\n",
        "model3.add(Dropout(0.2))\n",
        "model3.add(Flatten())\n",
        "model3.add(Dense(128,activation='relu'))\n",
        "model3.add(Dense(46,activation='softmax'))\n",
        "model3.compile(loss='categorica_crossentropy',optimizer='adam',metrics=['accuracy'])\n",
        "model3.summary()"
      ],
      "execution_count": 45,
      "outputs": [
        {
          "output_type": "stream",
          "name": "stdout",
          "text": [
            "Model: \"sequential_3\"\n",
            "_________________________________________________________________\n",
            "Layer (type)                 Output Shape              Param #   \n",
            "=================================================================\n",
            "embedding_3 (Embedding)      (None, 1000, 300)         6000000   \n",
            "_________________________________________________________________\n",
            "conv1d_2 (Conv1D)            (None, 1000, 64)          57664     \n",
            "_________________________________________________________________\n",
            "max_pooling1d (MaxPooling1D) (None, 500, 64)           0         \n",
            "_________________________________________________________________\n",
            "dropout_3 (Dropout)          (None, 500, 64)           0         \n",
            "_________________________________________________________________\n",
            "lstm_1 (LSTM)                (None, 500, 128)          98816     \n",
            "_________________________________________________________________\n",
            "dropout_4 (Dropout)          (None, 500, 128)          0         \n",
            "_________________________________________________________________\n",
            "flatten (Flatten)            (None, 64000)             0         \n",
            "_________________________________________________________________\n",
            "dense_4 (Dense)              (None, 128)               8192128   \n",
            "_________________________________________________________________\n",
            "dense_5 (Dense)              (None, 46)                5934      \n",
            "=================================================================\n",
            "Total params: 14,354,542\n",
            "Trainable params: 14,354,542\n",
            "Non-trainable params: 0\n",
            "_________________________________________________________________\n"
          ]
        }
      ]
    },
    {
      "cell_type": "code",
      "metadata": {
        "id": "XUSKtlxQHGBm"
      },
      "source": [
        "model3.compile(loss='categorical_crossentropy',optimizer='adam',metrics=['accuracy'])"
      ],
      "execution_count": 46,
      "outputs": []
    },
    {
      "cell_type": "code",
      "metadata": {
        "id": "oEyoIESYHeJr",
        "colab": {
          "base_uri": "https://localhost:8080/"
        },
        "outputId": "84905920-1b20-4c74-9831-51193ea56794"
      },
      "source": [
        "print('Train...')\n",
        "model3.fit(X_train, y_train,batch_size=256,epochs=2)"
      ],
      "execution_count": 47,
      "outputs": [
        {
          "output_type": "stream",
          "name": "stdout",
          "text": [
            "Train...\n",
            "Epoch 1/2\n",
            "31/31 [==============================] - 231s 7s/step - loss: 2.4110 - accuracy: 0.3813\n",
            "Epoch 2/2\n",
            "31/31 [==============================] - 224s 7s/step - loss: 1.6141 - accuracy: 0.5825\n"
          ]
        },
        {
          "output_type": "execute_result",
          "data": {
            "text/plain": [
              "<tensorflow.python.keras.callbacks.History at 0x7f3cdabbd890>"
            ]
          },
          "metadata": {},
          "execution_count": 47
        }
      ]
    },
    {
      "cell_type": "code",
      "metadata": {
        "id": "NyPqqtKgHj5a",
        "colab": {
          "base_uri": "https://localhost:8080/"
        },
        "outputId": "8552632c-a435-437c-fb53-c9eeeda755c5"
      },
      "source": [
        "model3.evaluate(X_test,y_test)"
      ],
      "execution_count": 48,
      "outputs": [
        {
          "output_type": "stream",
          "name": "stdout",
          "text": [
            "106/106 [==============================] - 31s 288ms/step - loss: 1.5162 - accuracy: 0.6183\n"
          ]
        },
        {
          "output_type": "execute_result",
          "data": {
            "text/plain": [
              "[1.5161560773849487, 0.6182843446731567]"
            ]
          },
          "metadata": {},
          "execution_count": 48
        }
      ]
    }
  ]
}